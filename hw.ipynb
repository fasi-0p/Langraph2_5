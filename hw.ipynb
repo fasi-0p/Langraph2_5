{
 "cells": [
  {
   "cell_type": "code",
   "execution_count": 1,
   "id": "67a9b4a5",
   "metadata": {},
   "outputs": [],
   "source": [
    "from typing import List, TypedDict\n",
    "from langgraph.graph import StateGraph"
   ]
  },
  {
   "cell_type": "code",
   "execution_count": 29,
   "id": "5c68bdf0",
   "metadata": {},
   "outputs": [],
   "source": [
    "import numpy as np\n",
    "class AgentState(TypedDict):\n",
    "    name: str\n",
    "    ip: List[int]\n",
    "    operator:str\n",
    "    res:str\n",
    "\n",
    "def process_ip(state: AgentState)->AgentState:\n",
    "    if(state['operator']=='*'):\n",
    "        state['res']=f\"hey {state['name']}, product is {np.prod(state['ip'])} \"\n",
    "    else:\n",
    "        state['res']=f\"hey {state['name']}, sum is {sum(state['ip'])}\"\n",
    "    return state"
   ]
  },
  {
   "cell_type": "code",
   "execution_count": 30,
   "id": "f9edf588",
   "metadata": {},
   "outputs": [],
   "source": [
    "graph=StateGraph(AgentState)\n",
    "graph.set_entry_point(\"mathss\")\n",
    "graph.add_node(\"mathss\", process_ip)\n",
    "graph.set_finish_point(\"mathss\")\n",
    "app=graph.compile()"
   ]
  },
  {
   "cell_type": "code",
   "execution_count": 31,
   "id": "2deebf1b",
   "metadata": {},
   "outputs": [
    {
     "data": {
      "text/plain": [
       "'hey fasi, product is 6000 '"
      ]
     },
     "execution_count": 31,
     "metadata": {},
     "output_type": "execute_result"
    }
   ],
   "source": [
    "res=app.invoke({\"name\":\"fasi\",\n",
    "                \"ip\":[10,20,30],\n",
    "                \"operator\":\"*\"})\n",
    "res['res']"
   ]
  }
 ],
 "metadata": {
  "kernelspec": {
   "display_name": "base",
   "language": "python",
   "name": "python3"
  },
  "language_info": {
   "codemirror_mode": {
    "name": "ipython",
    "version": 3
   },
   "file_extension": ".py",
   "mimetype": "text/x-python",
   "name": "python",
   "nbconvert_exporter": "python",
   "pygments_lexer": "ipython3",
   "version": "3.12.7"
  }
 },
 "nbformat": 4,
 "nbformat_minor": 5
}
