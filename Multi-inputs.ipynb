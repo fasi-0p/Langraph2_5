{
 "cells": [
  {
   "cell_type": "code",
   "execution_count": 2,
   "id": "eff45d68",
   "metadata": {},
   "outputs": [],
   "source": [
    "from typing import List, TypedDict\n",
    "from langgraph.graph import StateGraph"
   ]
  },
  {
   "cell_type": "code",
   "execution_count": 3,
   "id": "2fcff37e",
   "metadata": {},
   "outputs": [],
   "source": [
    "class AgentState(TypedDict):\n",
    "    values: List[int]\n",
    "    name: str\n",
    "    result: str"
   ]
  },
  {
   "cell_type": "code",
   "execution_count": 8,
   "id": "e854f591",
   "metadata": {},
   "outputs": [],
   "source": [
    "def process_values(state: AgentState)->AgentState:\n",
    "    state['result']=f\"hello {state['name']} your sum= {sum(state['values'])}\"\n",
    "    return state\n"
   ]
  },
  {
   "cell_type": "code",
   "execution_count": 9,
   "id": "ab9b6074",
   "metadata": {},
   "outputs": [],
   "source": [
    "graph= StateGraph(AgentState)\n",
    "graph.set_entry_point(\"processor\")\n",
    "graph.add_node(\"processor\", process_values)\n",
    "graph.set_finish_point(\"processor\")\n",
    "\n",
    "app=graph.compile()"
   ]
  },
  {
   "cell_type": "code",
   "execution_count": 13,
   "id": "3b21c0e8",
   "metadata": {},
   "outputs": [
    {
     "data": {
      "text/plain": [
       "'hello Fasi your sum= 60'"
      ]
     },
     "execution_count": 13,
     "metadata": {},
     "output_type": "execute_result"
    }
   ],
   "source": [
    "res=app.invoke(\n",
    "process_values({'values':[10,20,30],\n",
    "                'name':'Fasi'}))\n",
    "res[\"result\"]"
   ]
  }
 ],
 "metadata": {
  "kernelspec": {
   "display_name": "base",
   "language": "python",
   "name": "python3"
  },
  "language_info": {
   "codemirror_mode": {
    "name": "ipython",
    "version": 3
   },
   "file_extension": ".py",
   "mimetype": "text/x-python",
   "name": "python",
   "nbconvert_exporter": "python",
   "pygments_lexer": "ipython3",
   "version": "3.12.7"
  }
 },
 "nbformat": 4,
 "nbformat_minor": 5
}
