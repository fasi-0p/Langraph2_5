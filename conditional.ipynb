{
 "cells": [
  {
   "cell_type": "code",
   "execution_count": 1,
   "id": "29c70183",
   "metadata": {},
   "outputs": [],
   "source": [
    "from typing import TypedDict\n",
    "from langgraph.graph import StateGraph, START, END"
   ]
  },
  {
   "cell_type": "code",
   "execution_count": 42,
   "id": "c1aedbb8",
   "metadata": {},
   "outputs": [],
   "source": [
    "class AgentState(TypedDict):\n",
    "    num1: int\n",
    "    num2: int\n",
    "    op: str\n",
    "    res: int\n",
    "\n",
    "def decider(state: AgentState)-> str:\n",
    "    if state['op']==\"+\":\n",
    "        return \"addition\"\n",
    "    else:\n",
    "        return \"subtraction\"\n",
    "\n",
    "def adder(state: AgentState)-> AgentState:\n",
    "    state['res']=state[\"num1\"]+state[\"num2\"]\n",
    "    return state\n",
    "\n",
    "def subtracter(state: AgentState)-> AgentState:\n",
    "    state['res']=state[\"num1\"]-state[\"num2\"]\n",
    "    return state\n"
   ]
  },
  {
   "cell_type": "code",
   "execution_count": 43,
   "id": "2bd52f9b",
   "metadata": {},
   "outputs": [],
   "source": [
    "graph=StateGraph(AgentState)\n",
    "#first define all nodes\n",
    "graph.add_node(\"adder\", adder)\n",
    "graph.add_node(\"subtracter\", subtracter)\n",
    "#then declare edges\n",
    "# graph.add_edge(START, \"decider\")\n",
    "graph.add_conditional_edges( \n",
    "    START,\n",
    "    decider,\n",
    "    {\"addition\": \"adder\",\n",
    "     \"subtraction\": \"subtracter\"}\n",
    ")\n",
    "\n",
    "graph.add_edge(\"adder\", END)\n",
    "graph.add_edge(\"subtracter\", END)\n",
    "app=graph.compile()\n",
    "app\n",
    "\n",
    "graph = StateGraph(AgentState)\n",
    "\n",
    "graph.add_node(\"adder\", adder)\n",
    "graph.add_node(\"subtracter\", subtracter)\n",
    "\n",
    "graph.add_conditional_edges(\n",
    "    START,\n",
    "    decider,\n",
    "    {\n",
    "        \"addition\": \"adder\",\n",
    "        \"subtraction\": \"subtracter\"\n",
    "    }\n",
    ")\n",
    "\n",
    "graph.add_edge(\"adder\", END)\n",
    "graph.add_edge(\"subtracter\", END)\n",
    "\n",
    "app = graph.compile()"
   ]
  },
  {
   "cell_type": "code",
   "execution_count": 45,
   "id": "484e53ab",
   "metadata": {},
   "outputs": [
    {
     "data": {
      "text/plain": [
       "-10"
      ]
     },
     "execution_count": 45,
     "metadata": {},
     "output_type": "execute_result"
    }
   ],
   "source": [
    "initial_state1 = {\"num1\": 10, \"num2\": 20, \"op\": \"-\"}\n",
    "res=app.invoke(initial_state1)\n",
    "res['res']"
   ]
  }
 ],
 "metadata": {
  "kernelspec": {
   "display_name": "base",
   "language": "python",
   "name": "python3"
  },
  "language_info": {
   "codemirror_mode": {
    "name": "ipython",
    "version": 3
   },
   "file_extension": ".py",
   "mimetype": "text/x-python",
   "name": "python",
   "nbconvert_exporter": "python",
   "pygments_lexer": "ipython3",
   "version": "3.12.7"
  }
 },
 "nbformat": 4,
 "nbformat_minor": 5
}
